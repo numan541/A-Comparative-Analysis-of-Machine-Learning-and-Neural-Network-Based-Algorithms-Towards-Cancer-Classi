{
 "cells": [
  {
   "cell_type": "code",
   "execution_count": 1,
   "id": "9cd7476b",
   "metadata": {},
   "outputs": [],
   "source": [
    "import os\n",
    "import pandas as pd\n",
    "import numpy as np\n",
    "import warnings"
   ]
  },
  {
   "cell_type": "code",
   "execution_count": 61,
   "id": "7725736a",
   "metadata": {},
   "outputs": [
    {
     "data": {
      "text/plain": [
       "'/media/drwaseem/DATA Backup/ML_FYP/Thesis_work'"
      ]
     },
     "execution_count": 61,
     "metadata": {},
     "output_type": "execute_result"
    }
   ],
   "source": [
    "#to get current working directory\n",
    "os.getcwd()\n",
    "os.chdir(\"/media/drwaseem/DATA Backup/ML_FYP/Thesis_work/\")"
   ]
  },
  {
   "cell_type": "code",
   "execution_count": 53,
   "id": "177af3e4",
   "metadata": {},
   "outputs": [],
   "source": [
    "#reading the dataset and storing it in a new variable named as \"merged\"\n",
    "merged = pd.read_csv(\"after_log_trans.csv\", index_col = 0)"
   ]
  },
  {
   "cell_type": "code",
   "execution_count": 54,
   "id": "4d20e50b",
   "metadata": {},
   "outputs": [],
   "source": [
    "#To calculate the variances row wise for each gene.\n",
    "var_merged = merged.iloc[:,:-1].var(axis = \"index\")\n",
    "var_merged = var_merged.rename(index=\"variance\")"
   ]
  },
  {
   "cell_type": "code",
   "execution_count": 55,
   "id": "527db5b9",
   "metadata": {},
   "outputs": [
    {
     "data": {
      "text/plain": [
       "A1BG         5.383871\n",
       "A1BG-AS1     3.182821\n",
       "A1CF        15.205590\n",
       "A2M          3.743051\n",
       "A2ML1       14.177044\n",
       "              ...    \n",
       "ZYG11A       7.749101\n",
       "ZYG11B       1.159772\n",
       "ZYX          1.040186\n",
       "ZZEF1        1.005881\n",
       "ZZZ3         0.925655\n",
       "Name: variance, Length: 19417, dtype: float64"
      ]
     },
     "execution_count": 55,
     "metadata": {},
     "output_type": "execute_result"
    }
   ],
   "source": [
    "var_merged"
   ]
  },
  {
   "cell_type": "code",
   "execution_count": 56,
   "id": "ae3fcf4f",
   "metadata": {},
   "outputs": [],
   "source": [
    "#To add a column (named as Variance) at the end of dataframe contains the information of variance\n",
    "merged_up = merged.append(var_merged, ignore_index= False)"
   ]
  },
  {
   "cell_type": "code",
   "execution_count": 57,
   "id": "4396ec20",
   "metadata": {},
   "outputs": [],
   "source": [
    "merged_up = merged_up.iloc[:,:-1]"
   ]
  },
  {
   "cell_type": "code",
   "execution_count": 58,
   "id": "598e430d",
   "metadata": {},
   "outputs": [
    {
     "data": {
      "text/html": [
       "<div>\n",
       "<style scoped>\n",
       "    .dataframe tbody tr th:only-of-type {\n",
       "        vertical-align: middle;\n",
       "    }\n",
       "\n",
       "    .dataframe tbody tr th {\n",
       "        vertical-align: top;\n",
       "    }\n",
       "\n",
       "    .dataframe thead th {\n",
       "        text-align: right;\n",
       "    }\n",
       "</style>\n",
       "<table border=\"1\" class=\"dataframe\">\n",
       "  <thead>\n",
       "    <tr style=\"text-align: right;\">\n",
       "      <th></th>\n",
       "      <th>A1BG</th>\n",
       "      <th>A1BG-AS1</th>\n",
       "      <th>A1CF</th>\n",
       "      <th>A2M</th>\n",
       "      <th>A2ML1</th>\n",
       "      <th>A2MP1</th>\n",
       "      <th>A4GALT</th>\n",
       "      <th>A4GNT</th>\n",
       "      <th>AA06</th>\n",
       "      <th>AAAS</th>\n",
       "      <th>...</th>\n",
       "      <th>ZWILCH</th>\n",
       "      <th>ZWINT</th>\n",
       "      <th>ZXDA</th>\n",
       "      <th>ZXDB</th>\n",
       "      <th>ZXDC</th>\n",
       "      <th>ZYG11A</th>\n",
       "      <th>ZYG11B</th>\n",
       "      <th>ZYX</th>\n",
       "      <th>ZZEF1</th>\n",
       "      <th>ZZZ3</th>\n",
       "    </tr>\n",
       "  </thead>\n",
       "  <tbody>\n",
       "    <tr>\n",
       "      <th>GBM.T.136</th>\n",
       "      <td>8.118941</td>\n",
       "      <td>5.285402</td>\n",
       "      <td>1.000000</td>\n",
       "      <td>16.008035</td>\n",
       "      <td>6.629357</td>\n",
       "      <td>2.321928</td>\n",
       "      <td>6.459432</td>\n",
       "      <td>2.321928</td>\n",
       "      <td>0.000000</td>\n",
       "      <td>10.053926</td>\n",
       "      <td>...</td>\n",
       "      <td>8.870365</td>\n",
       "      <td>9.654636</td>\n",
       "      <td>8.149747</td>\n",
       "      <td>9.152285</td>\n",
       "      <td>11.032735</td>\n",
       "      <td>2.000000</td>\n",
       "      <td>11.064069</td>\n",
       "      <td>12.959821</td>\n",
       "      <td>11.394463</td>\n",
       "      <td>10.149747</td>\n",
       "    </tr>\n",
       "    <tr>\n",
       "      <th>GBM.T.108</th>\n",
       "      <td>9.797662</td>\n",
       "      <td>5.584963</td>\n",
       "      <td>2.000000</td>\n",
       "      <td>16.470087</td>\n",
       "      <td>3.169925</td>\n",
       "      <td>1.584963</td>\n",
       "      <td>10.063395</td>\n",
       "      <td>2.000000</td>\n",
       "      <td>1.000000</td>\n",
       "      <td>10.488844</td>\n",
       "      <td>...</td>\n",
       "      <td>9.786270</td>\n",
       "      <td>9.087463</td>\n",
       "      <td>7.636625</td>\n",
       "      <td>9.005625</td>\n",
       "      <td>10.335390</td>\n",
       "      <td>4.087463</td>\n",
       "      <td>10.863412</td>\n",
       "      <td>14.615170</td>\n",
       "      <td>10.377211</td>\n",
       "      <td>10.521600</td>\n",
       "    </tr>\n",
       "    <tr>\n",
       "      <th>GBM.T.115</th>\n",
       "      <td>9.616549</td>\n",
       "      <td>5.700440</td>\n",
       "      <td>1.000000</td>\n",
       "      <td>15.830243</td>\n",
       "      <td>4.169925</td>\n",
       "      <td>3.169925</td>\n",
       "      <td>7.924813</td>\n",
       "      <td>1.584963</td>\n",
       "      <td>0.000000</td>\n",
       "      <td>11.703471</td>\n",
       "      <td>...</td>\n",
       "      <td>10.686501</td>\n",
       "      <td>10.864960</td>\n",
       "      <td>7.118941</td>\n",
       "      <td>9.998590</td>\n",
       "      <td>11.198445</td>\n",
       "      <td>6.942515</td>\n",
       "      <td>11.610102</td>\n",
       "      <td>13.802920</td>\n",
       "      <td>11.122828</td>\n",
       "      <td>10.842350</td>\n",
       "    </tr>\n",
       "    <tr>\n",
       "      <th>GBM.T.159</th>\n",
       "      <td>7.348728</td>\n",
       "      <td>4.807355</td>\n",
       "      <td>1.000000</td>\n",
       "      <td>14.229945</td>\n",
       "      <td>9.090112</td>\n",
       "      <td>2.807355</td>\n",
       "      <td>8.618386</td>\n",
       "      <td>1.000000</td>\n",
       "      <td>0.000000</td>\n",
       "      <td>11.433064</td>\n",
       "      <td>...</td>\n",
       "      <td>9.867279</td>\n",
       "      <td>10.099348</td>\n",
       "      <td>8.330917</td>\n",
       "      <td>9.207014</td>\n",
       "      <td>11.666224</td>\n",
       "      <td>1.000000</td>\n",
       "      <td>11.283088</td>\n",
       "      <td>13.643518</td>\n",
       "      <td>11.392854</td>\n",
       "      <td>10.697836</td>\n",
       "    </tr>\n",
       "    <tr>\n",
       "      <th>GBM.T.116</th>\n",
       "      <td>7.672425</td>\n",
       "      <td>4.700440</td>\n",
       "      <td>1.000000</td>\n",
       "      <td>16.266530</td>\n",
       "      <td>7.912889</td>\n",
       "      <td>2.584963</td>\n",
       "      <td>6.409391</td>\n",
       "      <td>1.000000</td>\n",
       "      <td>0.000000</td>\n",
       "      <td>10.596190</td>\n",
       "      <td>...</td>\n",
       "      <td>8.224002</td>\n",
       "      <td>7.257388</td>\n",
       "      <td>7.426265</td>\n",
       "      <td>8.392317</td>\n",
       "      <td>10.290019</td>\n",
       "      <td>0.000000</td>\n",
       "      <td>10.298063</td>\n",
       "      <td>13.879583</td>\n",
       "      <td>10.241983</td>\n",
       "      <td>10.008429</td>\n",
       "    </tr>\n",
       "    <tr>\n",
       "      <th>...</th>\n",
       "      <td>...</td>\n",
       "      <td>...</td>\n",
       "      <td>...</td>\n",
       "      <td>...</td>\n",
       "      <td>...</td>\n",
       "      <td>...</td>\n",
       "      <td>...</td>\n",
       "      <td>...</td>\n",
       "      <td>...</td>\n",
       "      <td>...</td>\n",
       "      <td>...</td>\n",
       "      <td>...</td>\n",
       "      <td>...</td>\n",
       "      <td>...</td>\n",
       "      <td>...</td>\n",
       "      <td>...</td>\n",
       "      <td>...</td>\n",
       "      <td>...</td>\n",
       "      <td>...</td>\n",
       "      <td>...</td>\n",
       "      <td>...</td>\n",
       "    </tr>\n",
       "    <tr>\n",
       "      <th>THYM.N.1</th>\n",
       "      <td>10.278449</td>\n",
       "      <td>7.857981</td>\n",
       "      <td>2.000000</td>\n",
       "      <td>13.173989</td>\n",
       "      <td>7.900867</td>\n",
       "      <td>2.321928</td>\n",
       "      <td>8.888743</td>\n",
       "      <td>1.584963</td>\n",
       "      <td>0.000000</td>\n",
       "      <td>12.134426</td>\n",
       "      <td>...</td>\n",
       "      <td>10.598983</td>\n",
       "      <td>12.497103</td>\n",
       "      <td>8.622052</td>\n",
       "      <td>9.554589</td>\n",
       "      <td>12.426003</td>\n",
       "      <td>5.321928</td>\n",
       "      <td>11.208844</td>\n",
       "      <td>13.403145</td>\n",
       "      <td>13.259155</td>\n",
       "      <td>10.943247</td>\n",
       "    </tr>\n",
       "    <tr>\n",
       "      <th>KIRP.N.28</th>\n",
       "      <td>7.033423</td>\n",
       "      <td>5.459432</td>\n",
       "      <td>4.584963</td>\n",
       "      <td>15.505905</td>\n",
       "      <td>4.247928</td>\n",
       "      <td>4.000000</td>\n",
       "      <td>10.901621</td>\n",
       "      <td>5.643856</td>\n",
       "      <td>0.000000</td>\n",
       "      <td>11.591522</td>\n",
       "      <td>...</td>\n",
       "      <td>9.611025</td>\n",
       "      <td>9.598053</td>\n",
       "      <td>9.182394</td>\n",
       "      <td>10.144658</td>\n",
       "      <td>12.099348</td>\n",
       "      <td>4.954196</td>\n",
       "      <td>12.235117</td>\n",
       "      <td>13.214623</td>\n",
       "      <td>12.620678</td>\n",
       "      <td>11.449149</td>\n",
       "    </tr>\n",
       "    <tr>\n",
       "      <th>PAAD.N.2</th>\n",
       "      <td>8.262095</td>\n",
       "      <td>5.044394</td>\n",
       "      <td>7.321928</td>\n",
       "      <td>16.054096</td>\n",
       "      <td>3.169925</td>\n",
       "      <td>2.807355</td>\n",
       "      <td>11.628446</td>\n",
       "      <td>4.000000</td>\n",
       "      <td>0.000000</td>\n",
       "      <td>10.510764</td>\n",
       "      <td>...</td>\n",
       "      <td>8.721099</td>\n",
       "      <td>8.982994</td>\n",
       "      <td>7.813781</td>\n",
       "      <td>9.426265</td>\n",
       "      <td>10.609179</td>\n",
       "      <td>2.584963</td>\n",
       "      <td>10.484823</td>\n",
       "      <td>14.705632</td>\n",
       "      <td>11.293472</td>\n",
       "      <td>9.588715</td>\n",
       "    </tr>\n",
       "    <tr>\n",
       "      <th>CHOL.N.2</th>\n",
       "      <td>16.331179</td>\n",
       "      <td>9.187352</td>\n",
       "      <td>13.341380</td>\n",
       "      <td>16.745871</td>\n",
       "      <td>1.000000</td>\n",
       "      <td>2.584963</td>\n",
       "      <td>5.357552</td>\n",
       "      <td>2.584963</td>\n",
       "      <td>0.000000</td>\n",
       "      <td>9.415742</td>\n",
       "      <td>...</td>\n",
       "      <td>6.491853</td>\n",
       "      <td>5.882643</td>\n",
       "      <td>7.383704</td>\n",
       "      <td>10.838416</td>\n",
       "      <td>9.789534</td>\n",
       "      <td>6.022368</td>\n",
       "      <td>11.357002</td>\n",
       "      <td>10.995060</td>\n",
       "      <td>9.560333</td>\n",
       "      <td>8.957102</td>\n",
       "    </tr>\n",
       "    <tr>\n",
       "      <th>variance</th>\n",
       "      <td>5.383871</td>\n",
       "      <td>3.182821</td>\n",
       "      <td>15.205590</td>\n",
       "      <td>3.743051</td>\n",
       "      <td>14.177044</td>\n",
       "      <td>2.069556</td>\n",
       "      <td>3.562604</td>\n",
       "      <td>4.047393</td>\n",
       "      <td>0.074666</td>\n",
       "      <td>0.566323</td>\n",
       "      <td>...</td>\n",
       "      <td>1.331575</td>\n",
       "      <td>2.288626</td>\n",
       "      <td>1.297410</td>\n",
       "      <td>1.072262</td>\n",
       "      <td>0.671075</td>\n",
       "      <td>7.749101</td>\n",
       "      <td>1.159772</td>\n",
       "      <td>1.040186</td>\n",
       "      <td>1.005881</td>\n",
       "      <td>0.925655</td>\n",
       "    </tr>\n",
       "  </tbody>\n",
       "</table>\n",
       "<p>10006 rows × 19417 columns</p>\n",
       "</div>"
      ],
      "text/plain": [
       "                A1BG  A1BG-AS1       A1CF        A2M      A2ML1     A2MP1  \\\n",
       "GBM.T.136   8.118941  5.285402   1.000000  16.008035   6.629357  2.321928   \n",
       "GBM.T.108   9.797662  5.584963   2.000000  16.470087   3.169925  1.584963   \n",
       "GBM.T.115   9.616549  5.700440   1.000000  15.830243   4.169925  3.169925   \n",
       "GBM.T.159   7.348728  4.807355   1.000000  14.229945   9.090112  2.807355   \n",
       "GBM.T.116   7.672425  4.700440   1.000000  16.266530   7.912889  2.584963   \n",
       "...              ...       ...        ...        ...        ...       ...   \n",
       "THYM.N.1   10.278449  7.857981   2.000000  13.173989   7.900867  2.321928   \n",
       "KIRP.N.28   7.033423  5.459432   4.584963  15.505905   4.247928  4.000000   \n",
       "PAAD.N.2    8.262095  5.044394   7.321928  16.054096   3.169925  2.807355   \n",
       "CHOL.N.2   16.331179  9.187352  13.341380  16.745871   1.000000  2.584963   \n",
       "variance    5.383871  3.182821  15.205590   3.743051  14.177044  2.069556   \n",
       "\n",
       "              A4GALT     A4GNT      AA06       AAAS  ...     ZWILCH  \\\n",
       "GBM.T.136   6.459432  2.321928  0.000000  10.053926  ...   8.870365   \n",
       "GBM.T.108  10.063395  2.000000  1.000000  10.488844  ...   9.786270   \n",
       "GBM.T.115   7.924813  1.584963  0.000000  11.703471  ...  10.686501   \n",
       "GBM.T.159   8.618386  1.000000  0.000000  11.433064  ...   9.867279   \n",
       "GBM.T.116   6.409391  1.000000  0.000000  10.596190  ...   8.224002   \n",
       "...              ...       ...       ...        ...  ...        ...   \n",
       "THYM.N.1    8.888743  1.584963  0.000000  12.134426  ...  10.598983   \n",
       "KIRP.N.28  10.901621  5.643856  0.000000  11.591522  ...   9.611025   \n",
       "PAAD.N.2   11.628446  4.000000  0.000000  10.510764  ...   8.721099   \n",
       "CHOL.N.2    5.357552  2.584963  0.000000   9.415742  ...   6.491853   \n",
       "variance    3.562604  4.047393  0.074666   0.566323  ...   1.331575   \n",
       "\n",
       "               ZWINT      ZXDA       ZXDB       ZXDC    ZYG11A     ZYG11B  \\\n",
       "GBM.T.136   9.654636  8.149747   9.152285  11.032735  2.000000  11.064069   \n",
       "GBM.T.108   9.087463  7.636625   9.005625  10.335390  4.087463  10.863412   \n",
       "GBM.T.115  10.864960  7.118941   9.998590  11.198445  6.942515  11.610102   \n",
       "GBM.T.159  10.099348  8.330917   9.207014  11.666224  1.000000  11.283088   \n",
       "GBM.T.116   7.257388  7.426265   8.392317  10.290019  0.000000  10.298063   \n",
       "...              ...       ...        ...        ...       ...        ...   \n",
       "THYM.N.1   12.497103  8.622052   9.554589  12.426003  5.321928  11.208844   \n",
       "KIRP.N.28   9.598053  9.182394  10.144658  12.099348  4.954196  12.235117   \n",
       "PAAD.N.2    8.982994  7.813781   9.426265  10.609179  2.584963  10.484823   \n",
       "CHOL.N.2    5.882643  7.383704  10.838416   9.789534  6.022368  11.357002   \n",
       "variance    2.288626  1.297410   1.072262   0.671075  7.749101   1.159772   \n",
       "\n",
       "                 ZYX      ZZEF1       ZZZ3  \n",
       "GBM.T.136  12.959821  11.394463  10.149747  \n",
       "GBM.T.108  14.615170  10.377211  10.521600  \n",
       "GBM.T.115  13.802920  11.122828  10.842350  \n",
       "GBM.T.159  13.643518  11.392854  10.697836  \n",
       "GBM.T.116  13.879583  10.241983  10.008429  \n",
       "...              ...        ...        ...  \n",
       "THYM.N.1   13.403145  13.259155  10.943247  \n",
       "KIRP.N.28  13.214623  12.620678  11.449149  \n",
       "PAAD.N.2   14.705632  11.293472   9.588715  \n",
       "CHOL.N.2   10.995060   9.560333   8.957102  \n",
       "variance    1.040186   1.005881   0.925655  \n",
       "\n",
       "[10006 rows x 19417 columns]"
      ]
     },
     "execution_count": 58,
     "metadata": {},
     "output_type": "execute_result"
    }
   ],
   "source": [
    "merged_up"
   ]
  },
  {
   "cell_type": "code",
   "execution_count": 59,
   "id": "e8374d0f",
   "metadata": {},
   "outputs": [],
   "source": [
    "var_merged_up = var_merged.to_frame()"
   ]
  },
  {
   "cell_type": "code",
   "execution_count": 60,
   "id": "bb9ba4cf",
   "metadata": {},
   "outputs": [],
   "source": [
    "var_merged_up.to_csv(\"var_merged_up\")"
   ]
  },
  {
   "cell_type": "code",
   "execution_count": 61,
   "id": "de0c5dc2",
   "metadata": {},
   "outputs": [],
   "source": [
    "df_var_merged_up = var_merged_up.query(\"variance>1.19\")"
   ]
  },
  {
   "cell_type": "code",
   "execution_count": 62,
   "id": "2fffc16e",
   "metadata": {},
   "outputs": [
    {
     "data": {
      "text/html": [
       "<div>\n",
       "<style scoped>\n",
       "    .dataframe tbody tr th:only-of-type {\n",
       "        vertical-align: middle;\n",
       "    }\n",
       "\n",
       "    .dataframe tbody tr th {\n",
       "        vertical-align: top;\n",
       "    }\n",
       "\n",
       "    .dataframe thead th {\n",
       "        text-align: right;\n",
       "    }\n",
       "</style>\n",
       "<table border=\"1\" class=\"dataframe\">\n",
       "  <thead>\n",
       "    <tr style=\"text-align: right;\">\n",
       "      <th></th>\n",
       "      <th>variance</th>\n",
       "    </tr>\n",
       "  </thead>\n",
       "  <tbody>\n",
       "    <tr>\n",
       "      <th>A1BG</th>\n",
       "      <td>5.383871</td>\n",
       "    </tr>\n",
       "    <tr>\n",
       "      <th>A1BG-AS1</th>\n",
       "      <td>3.182821</td>\n",
       "    </tr>\n",
       "    <tr>\n",
       "      <th>A1CF</th>\n",
       "      <td>15.205590</td>\n",
       "    </tr>\n",
       "    <tr>\n",
       "      <th>A2M</th>\n",
       "      <td>3.743051</td>\n",
       "    </tr>\n",
       "    <tr>\n",
       "      <th>A2ML1</th>\n",
       "      <td>14.177044</td>\n",
       "    </tr>\n",
       "    <tr>\n",
       "      <th>...</th>\n",
       "      <td>...</td>\n",
       "    </tr>\n",
       "    <tr>\n",
       "      <th>ZSWIM5</th>\n",
       "      <td>3.497897</td>\n",
       "    </tr>\n",
       "    <tr>\n",
       "      <th>ZWILCH</th>\n",
       "      <td>1.331575</td>\n",
       "    </tr>\n",
       "    <tr>\n",
       "      <th>ZWINT</th>\n",
       "      <td>2.288626</td>\n",
       "    </tr>\n",
       "    <tr>\n",
       "      <th>ZXDA</th>\n",
       "      <td>1.297410</td>\n",
       "    </tr>\n",
       "    <tr>\n",
       "      <th>ZYG11A</th>\n",
       "      <td>7.749101</td>\n",
       "    </tr>\n",
       "  </tbody>\n",
       "</table>\n",
       "<p>11944 rows × 1 columns</p>\n",
       "</div>"
      ],
      "text/plain": [
       "           variance\n",
       "A1BG       5.383871\n",
       "A1BG-AS1   3.182821\n",
       "A1CF      15.205590\n",
       "A2M        3.743051\n",
       "A2ML1     14.177044\n",
       "...             ...\n",
       "ZSWIM5     3.497897\n",
       "ZWILCH     1.331575\n",
       "ZWINT      2.288626\n",
       "ZXDA       1.297410\n",
       "ZYG11A     7.749101\n",
       "\n",
       "[11944 rows x 1 columns]"
      ]
     },
     "execution_count": 62,
     "metadata": {},
     "output_type": "execute_result"
    }
   ],
   "source": [
    "df_var_merged_up"
   ]
  },
  {
   "cell_type": "code",
   "execution_count": 70,
   "id": "a0924151",
   "metadata": {},
   "outputs": [],
   "source": [
    "#Use df.index.name = 'Gene_symbol' to set the index name\n",
    "df_var_merged_up.index.name = 'Gene_symbol'"
   ]
  },
  {
   "cell_type": "code",
   "execution_count": 71,
   "id": "33d12dee",
   "metadata": {},
   "outputs": [
    {
     "data": {
      "text/html": [
       "<div>\n",
       "<style scoped>\n",
       "    .dataframe tbody tr th:only-of-type {\n",
       "        vertical-align: middle;\n",
       "    }\n",
       "\n",
       "    .dataframe tbody tr th {\n",
       "        vertical-align: top;\n",
       "    }\n",
       "\n",
       "    .dataframe thead th {\n",
       "        text-align: right;\n",
       "    }\n",
       "</style>\n",
       "<table border=\"1\" class=\"dataframe\">\n",
       "  <thead>\n",
       "    <tr style=\"text-align: right;\">\n",
       "      <th></th>\n",
       "      <th>variance</th>\n",
       "    </tr>\n",
       "    <tr>\n",
       "      <th>Gene_symbol</th>\n",
       "      <th></th>\n",
       "    </tr>\n",
       "  </thead>\n",
       "  <tbody>\n",
       "    <tr>\n",
       "      <th>A1BG</th>\n",
       "      <td>5.383871</td>\n",
       "    </tr>\n",
       "    <tr>\n",
       "      <th>A1BG-AS1</th>\n",
       "      <td>3.182821</td>\n",
       "    </tr>\n",
       "    <tr>\n",
       "      <th>A1CF</th>\n",
       "      <td>15.205590</td>\n",
       "    </tr>\n",
       "    <tr>\n",
       "      <th>A2M</th>\n",
       "      <td>3.743051</td>\n",
       "    </tr>\n",
       "    <tr>\n",
       "      <th>A2ML1</th>\n",
       "      <td>14.177044</td>\n",
       "    </tr>\n",
       "    <tr>\n",
       "      <th>...</th>\n",
       "      <td>...</td>\n",
       "    </tr>\n",
       "    <tr>\n",
       "      <th>ZSWIM5</th>\n",
       "      <td>3.497897</td>\n",
       "    </tr>\n",
       "    <tr>\n",
       "      <th>ZWILCH</th>\n",
       "      <td>1.331575</td>\n",
       "    </tr>\n",
       "    <tr>\n",
       "      <th>ZWINT</th>\n",
       "      <td>2.288626</td>\n",
       "    </tr>\n",
       "    <tr>\n",
       "      <th>ZXDA</th>\n",
       "      <td>1.297410</td>\n",
       "    </tr>\n",
       "    <tr>\n",
       "      <th>ZYG11A</th>\n",
       "      <td>7.749101</td>\n",
       "    </tr>\n",
       "  </tbody>\n",
       "</table>\n",
       "<p>11944 rows × 1 columns</p>\n",
       "</div>"
      ],
      "text/plain": [
       "              variance\n",
       "Gene_symbol           \n",
       "A1BG          5.383871\n",
       "A1BG-AS1      3.182821\n",
       "A1CF         15.205590\n",
       "A2M           3.743051\n",
       "A2ML1        14.177044\n",
       "...                ...\n",
       "ZSWIM5        3.497897\n",
       "ZWILCH        1.331575\n",
       "ZWINT         2.288626\n",
       "ZXDA          1.297410\n",
       "ZYG11A        7.749101\n",
       "\n",
       "[11944 rows x 1 columns]"
      ]
     },
     "execution_count": 71,
     "metadata": {},
     "output_type": "execute_result"
    }
   ],
   "source": [
    "df_var_merged_up"
   ]
  },
  {
   "cell_type": "code",
   "execution_count": 64,
   "id": "92113a09",
   "metadata": {},
   "outputs": [],
   "source": [
    "#Take transpose, so we can merge the dataframes by common column across both columns by common ids  \n",
    "merged_up_trans = merged_up.T"
   ]
  },
  {
   "cell_type": "code",
   "execution_count": 66,
   "id": "faaab2cc",
   "metadata": {},
   "outputs": [],
   "source": [
    "#Use df.index.name = 'Gene_symbol' to set the index name\n",
    "merged_up_trans.index.name = \"Gene_symbol\""
   ]
  },
  {
   "cell_type": "code",
   "execution_count": 67,
   "id": "66a973c7",
   "metadata": {},
   "outputs": [
    {
     "data": {
      "text/html": [
       "<div>\n",
       "<style scoped>\n",
       "    .dataframe tbody tr th:only-of-type {\n",
       "        vertical-align: middle;\n",
       "    }\n",
       "\n",
       "    .dataframe tbody tr th {\n",
       "        vertical-align: top;\n",
       "    }\n",
       "\n",
       "    .dataframe thead th {\n",
       "        text-align: right;\n",
       "    }\n",
       "</style>\n",
       "<table border=\"1\" class=\"dataframe\">\n",
       "  <thead>\n",
       "    <tr style=\"text-align: right;\">\n",
       "      <th></th>\n",
       "      <th>GBM.T.136</th>\n",
       "      <th>GBM.T.108</th>\n",
       "      <th>GBM.T.115</th>\n",
       "      <th>GBM.T.159</th>\n",
       "      <th>GBM.T.116</th>\n",
       "      <th>OV.T.136</th>\n",
       "      <th>OV.T.75</th>\n",
       "      <th>OV.T.193</th>\n",
       "      <th>OV.T.138</th>\n",
       "      <th>OV.T.148</th>\n",
       "      <th>...</th>\n",
       "      <th>CHOL.N.3</th>\n",
       "      <th>CHOL.N.9</th>\n",
       "      <th>CHOL.N.6</th>\n",
       "      <th>HNSC.N.37</th>\n",
       "      <th>THYM.N.2</th>\n",
       "      <th>THYM.N.1</th>\n",
       "      <th>KIRP.N.28</th>\n",
       "      <th>PAAD.N.2</th>\n",
       "      <th>CHOL.N.2</th>\n",
       "      <th>variance</th>\n",
       "    </tr>\n",
       "    <tr>\n",
       "      <th>Gene_symbol</th>\n",
       "      <th></th>\n",
       "      <th></th>\n",
       "      <th></th>\n",
       "      <th></th>\n",
       "      <th></th>\n",
       "      <th></th>\n",
       "      <th></th>\n",
       "      <th></th>\n",
       "      <th></th>\n",
       "      <th></th>\n",
       "      <th></th>\n",
       "      <th></th>\n",
       "      <th></th>\n",
       "      <th></th>\n",
       "      <th></th>\n",
       "      <th></th>\n",
       "      <th></th>\n",
       "      <th></th>\n",
       "      <th></th>\n",
       "      <th></th>\n",
       "      <th></th>\n",
       "    </tr>\n",
       "  </thead>\n",
       "  <tbody>\n",
       "    <tr>\n",
       "      <th>A1BG</th>\n",
       "      <td>8.118941</td>\n",
       "      <td>9.797662</td>\n",
       "      <td>9.616549</td>\n",
       "      <td>7.348728</td>\n",
       "      <td>7.672425</td>\n",
       "      <td>9.789534</td>\n",
       "      <td>7.129283</td>\n",
       "      <td>9.503826</td>\n",
       "      <td>7.266787</td>\n",
       "      <td>10.276124</td>\n",
       "      <td>...</td>\n",
       "      <td>16.441193</td>\n",
       "      <td>16.000880</td>\n",
       "      <td>16.111665</td>\n",
       "      <td>5.426265</td>\n",
       "      <td>8.710806</td>\n",
       "      <td>10.278449</td>\n",
       "      <td>7.033423</td>\n",
       "      <td>8.262095</td>\n",
       "      <td>16.331179</td>\n",
       "      <td>5.383871</td>\n",
       "    </tr>\n",
       "    <tr>\n",
       "      <th>A1BG-AS1</th>\n",
       "      <td>5.285402</td>\n",
       "      <td>5.584963</td>\n",
       "      <td>5.700440</td>\n",
       "      <td>4.807355</td>\n",
       "      <td>4.700440</td>\n",
       "      <td>7.294621</td>\n",
       "      <td>4.700440</td>\n",
       "      <td>7.507795</td>\n",
       "      <td>4.169925</td>\n",
       "      <td>5.554589</td>\n",
       "      <td>...</td>\n",
       "      <td>9.113742</td>\n",
       "      <td>9.052568</td>\n",
       "      <td>8.909893</td>\n",
       "      <td>4.000000</td>\n",
       "      <td>7.022368</td>\n",
       "      <td>7.857981</td>\n",
       "      <td>5.459432</td>\n",
       "      <td>5.044394</td>\n",
       "      <td>9.187352</td>\n",
       "      <td>3.182821</td>\n",
       "    </tr>\n",
       "    <tr>\n",
       "      <th>A1CF</th>\n",
       "      <td>1.000000</td>\n",
       "      <td>2.000000</td>\n",
       "      <td>1.000000</td>\n",
       "      <td>1.000000</td>\n",
       "      <td>1.000000</td>\n",
       "      <td>2.584963</td>\n",
       "      <td>2.584963</td>\n",
       "      <td>3.169925</td>\n",
       "      <td>2.321928</td>\n",
       "      <td>2.807355</td>\n",
       "      <td>...</td>\n",
       "      <td>13.086800</td>\n",
       "      <td>14.074727</td>\n",
       "      <td>13.870365</td>\n",
       "      <td>2.321928</td>\n",
       "      <td>1.584963</td>\n",
       "      <td>2.000000</td>\n",
       "      <td>4.584963</td>\n",
       "      <td>7.321928</td>\n",
       "      <td>13.341380</td>\n",
       "      <td>15.205590</td>\n",
       "    </tr>\n",
       "    <tr>\n",
       "      <th>A2M</th>\n",
       "      <td>16.008035</td>\n",
       "      <td>16.470087</td>\n",
       "      <td>15.830243</td>\n",
       "      <td>14.229945</td>\n",
       "      <td>16.266530</td>\n",
       "      <td>14.114068</td>\n",
       "      <td>14.605248</td>\n",
       "      <td>14.753217</td>\n",
       "      <td>12.097703</td>\n",
       "      <td>12.105909</td>\n",
       "      <td>...</td>\n",
       "      <td>17.803292</td>\n",
       "      <td>17.332570</td>\n",
       "      <td>17.784571</td>\n",
       "      <td>13.568906</td>\n",
       "      <td>15.786219</td>\n",
       "      <td>13.173989</td>\n",
       "      <td>15.505905</td>\n",
       "      <td>16.054096</td>\n",
       "      <td>16.745871</td>\n",
       "      <td>3.743051</td>\n",
       "    </tr>\n",
       "    <tr>\n",
       "      <th>A2ML1</th>\n",
       "      <td>6.629357</td>\n",
       "      <td>3.169925</td>\n",
       "      <td>4.169925</td>\n",
       "      <td>9.090112</td>\n",
       "      <td>7.912889</td>\n",
       "      <td>9.434628</td>\n",
       "      <td>8.569856</td>\n",
       "      <td>4.000000</td>\n",
       "      <td>7.768184</td>\n",
       "      <td>5.426265</td>\n",
       "      <td>...</td>\n",
       "      <td>2.000000</td>\n",
       "      <td>0.000000</td>\n",
       "      <td>2.584963</td>\n",
       "      <td>16.179695</td>\n",
       "      <td>6.727920</td>\n",
       "      <td>7.900867</td>\n",
       "      <td>4.247928</td>\n",
       "      <td>3.169925</td>\n",
       "      <td>1.000000</td>\n",
       "      <td>14.177044</td>\n",
       "    </tr>\n",
       "    <tr>\n",
       "      <th>...</th>\n",
       "      <td>...</td>\n",
       "      <td>...</td>\n",
       "      <td>...</td>\n",
       "      <td>...</td>\n",
       "      <td>...</td>\n",
       "      <td>...</td>\n",
       "      <td>...</td>\n",
       "      <td>...</td>\n",
       "      <td>...</td>\n",
       "      <td>...</td>\n",
       "      <td>...</td>\n",
       "      <td>...</td>\n",
       "      <td>...</td>\n",
       "      <td>...</td>\n",
       "      <td>...</td>\n",
       "      <td>...</td>\n",
       "      <td>...</td>\n",
       "      <td>...</td>\n",
       "      <td>...</td>\n",
       "      <td>...</td>\n",
       "      <td>...</td>\n",
       "    </tr>\n",
       "    <tr>\n",
       "      <th>ZYG11A</th>\n",
       "      <td>2.000000</td>\n",
       "      <td>4.087463</td>\n",
       "      <td>6.942515</td>\n",
       "      <td>1.000000</td>\n",
       "      <td>0.000000</td>\n",
       "      <td>8.791163</td>\n",
       "      <td>5.700440</td>\n",
       "      <td>8.686501</td>\n",
       "      <td>4.643856</td>\n",
       "      <td>6.247928</td>\n",
       "      <td>...</td>\n",
       "      <td>6.554589</td>\n",
       "      <td>6.228819</td>\n",
       "      <td>6.614710</td>\n",
       "      <td>6.741467</td>\n",
       "      <td>5.832890</td>\n",
       "      <td>5.321928</td>\n",
       "      <td>4.954196</td>\n",
       "      <td>2.584963</td>\n",
       "      <td>6.022368</td>\n",
       "      <td>7.749101</td>\n",
       "    </tr>\n",
       "    <tr>\n",
       "      <th>ZYG11B</th>\n",
       "      <td>11.064069</td>\n",
       "      <td>10.863412</td>\n",
       "      <td>11.610102</td>\n",
       "      <td>11.283088</td>\n",
       "      <td>10.298063</td>\n",
       "      <td>12.291171</td>\n",
       "      <td>10.138272</td>\n",
       "      <td>11.127994</td>\n",
       "      <td>10.130571</td>\n",
       "      <td>9.975848</td>\n",
       "      <td>...</td>\n",
       "      <td>10.084808</td>\n",
       "      <td>11.443980</td>\n",
       "      <td>11.224002</td>\n",
       "      <td>12.105581</td>\n",
       "      <td>11.515700</td>\n",
       "      <td>11.208844</td>\n",
       "      <td>12.235117</td>\n",
       "      <td>10.484823</td>\n",
       "      <td>11.357002</td>\n",
       "      <td>1.159772</td>\n",
       "    </tr>\n",
       "    <tr>\n",
       "      <th>ZYX</th>\n",
       "      <td>12.959821</td>\n",
       "      <td>14.615170</td>\n",
       "      <td>13.802920</td>\n",
       "      <td>13.643518</td>\n",
       "      <td>13.879583</td>\n",
       "      <td>14.158452</td>\n",
       "      <td>14.140830</td>\n",
       "      <td>16.163905</td>\n",
       "      <td>14.161604</td>\n",
       "      <td>15.944506</td>\n",
       "      <td>...</td>\n",
       "      <td>11.314017</td>\n",
       "      <td>11.651949</td>\n",
       "      <td>11.808964</td>\n",
       "      <td>11.417853</td>\n",
       "      <td>13.733227</td>\n",
       "      <td>13.403145</td>\n",
       "      <td>13.214623</td>\n",
       "      <td>14.705632</td>\n",
       "      <td>10.995060</td>\n",
       "      <td>1.040186</td>\n",
       "    </tr>\n",
       "    <tr>\n",
       "      <th>ZZEF1</th>\n",
       "      <td>11.394463</td>\n",
       "      <td>10.377211</td>\n",
       "      <td>11.122828</td>\n",
       "      <td>11.392854</td>\n",
       "      <td>10.241983</td>\n",
       "      <td>11.136350</td>\n",
       "      <td>11.697402</td>\n",
       "      <td>12.116019</td>\n",
       "      <td>9.588715</td>\n",
       "      <td>11.365229</td>\n",
       "      <td>...</td>\n",
       "      <td>9.312883</td>\n",
       "      <td>9.527477</td>\n",
       "      <td>10.145932</td>\n",
       "      <td>11.665780</td>\n",
       "      <td>12.888743</td>\n",
       "      <td>13.259155</td>\n",
       "      <td>12.620678</td>\n",
       "      <td>11.293472</td>\n",
       "      <td>9.560333</td>\n",
       "      <td>1.005881</td>\n",
       "    </tr>\n",
       "    <tr>\n",
       "      <th>ZZZ3</th>\n",
       "      <td>10.149747</td>\n",
       "      <td>10.521600</td>\n",
       "      <td>10.842350</td>\n",
       "      <td>10.697836</td>\n",
       "      <td>10.008429</td>\n",
       "      <td>11.121534</td>\n",
       "      <td>9.269127</td>\n",
       "      <td>10.938844</td>\n",
       "      <td>8.800900</td>\n",
       "      <td>9.805744</td>\n",
       "      <td>...</td>\n",
       "      <td>9.219169</td>\n",
       "      <td>9.721099</td>\n",
       "      <td>9.744834</td>\n",
       "      <td>10.009829</td>\n",
       "      <td>11.022368</td>\n",
       "      <td>10.943247</td>\n",
       "      <td>11.449149</td>\n",
       "      <td>9.588715</td>\n",
       "      <td>8.957102</td>\n",
       "      <td>0.925655</td>\n",
       "    </tr>\n",
       "  </tbody>\n",
       "</table>\n",
       "<p>19417 rows × 10006 columns</p>\n",
       "</div>"
      ],
      "text/plain": [
       "             GBM.T.136  GBM.T.108  GBM.T.115  GBM.T.159  GBM.T.116   OV.T.136  \\\n",
       "Gene_symbol                                                                     \n",
       "A1BG          8.118941   9.797662   9.616549   7.348728   7.672425   9.789534   \n",
       "A1BG-AS1      5.285402   5.584963   5.700440   4.807355   4.700440   7.294621   \n",
       "A1CF          1.000000   2.000000   1.000000   1.000000   1.000000   2.584963   \n",
       "A2M          16.008035  16.470087  15.830243  14.229945  16.266530  14.114068   \n",
       "A2ML1         6.629357   3.169925   4.169925   9.090112   7.912889   9.434628   \n",
       "...                ...        ...        ...        ...        ...        ...   \n",
       "ZYG11A        2.000000   4.087463   6.942515   1.000000   0.000000   8.791163   \n",
       "ZYG11B       11.064069  10.863412  11.610102  11.283088  10.298063  12.291171   \n",
       "ZYX          12.959821  14.615170  13.802920  13.643518  13.879583  14.158452   \n",
       "ZZEF1        11.394463  10.377211  11.122828  11.392854  10.241983  11.136350   \n",
       "ZZZ3         10.149747  10.521600  10.842350  10.697836  10.008429  11.121534   \n",
       "\n",
       "               OV.T.75   OV.T.193   OV.T.138   OV.T.148  ...   CHOL.N.3  \\\n",
       "Gene_symbol                                              ...              \n",
       "A1BG          7.129283   9.503826   7.266787  10.276124  ...  16.441193   \n",
       "A1BG-AS1      4.700440   7.507795   4.169925   5.554589  ...   9.113742   \n",
       "A1CF          2.584963   3.169925   2.321928   2.807355  ...  13.086800   \n",
       "A2M          14.605248  14.753217  12.097703  12.105909  ...  17.803292   \n",
       "A2ML1         8.569856   4.000000   7.768184   5.426265  ...   2.000000   \n",
       "...                ...        ...        ...        ...  ...        ...   \n",
       "ZYG11A        5.700440   8.686501   4.643856   6.247928  ...   6.554589   \n",
       "ZYG11B       10.138272  11.127994  10.130571   9.975848  ...  10.084808   \n",
       "ZYX          14.140830  16.163905  14.161604  15.944506  ...  11.314017   \n",
       "ZZEF1        11.697402  12.116019   9.588715  11.365229  ...   9.312883   \n",
       "ZZZ3          9.269127  10.938844   8.800900   9.805744  ...   9.219169   \n",
       "\n",
       "              CHOL.N.9   CHOL.N.6  HNSC.N.37   THYM.N.2   THYM.N.1  KIRP.N.28  \\\n",
       "Gene_symbol                                                                     \n",
       "A1BG         16.000880  16.111665   5.426265   8.710806  10.278449   7.033423   \n",
       "A1BG-AS1      9.052568   8.909893   4.000000   7.022368   7.857981   5.459432   \n",
       "A1CF         14.074727  13.870365   2.321928   1.584963   2.000000   4.584963   \n",
       "A2M          17.332570  17.784571  13.568906  15.786219  13.173989  15.505905   \n",
       "A2ML1         0.000000   2.584963  16.179695   6.727920   7.900867   4.247928   \n",
       "...                ...        ...        ...        ...        ...        ...   \n",
       "ZYG11A        6.228819   6.614710   6.741467   5.832890   5.321928   4.954196   \n",
       "ZYG11B       11.443980  11.224002  12.105581  11.515700  11.208844  12.235117   \n",
       "ZYX          11.651949  11.808964  11.417853  13.733227  13.403145  13.214623   \n",
       "ZZEF1         9.527477  10.145932  11.665780  12.888743  13.259155  12.620678   \n",
       "ZZZ3          9.721099   9.744834  10.009829  11.022368  10.943247  11.449149   \n",
       "\n",
       "              PAAD.N.2   CHOL.N.2   variance  \n",
       "Gene_symbol                                   \n",
       "A1BG          8.262095  16.331179   5.383871  \n",
       "A1BG-AS1      5.044394   9.187352   3.182821  \n",
       "A1CF          7.321928  13.341380  15.205590  \n",
       "A2M          16.054096  16.745871   3.743051  \n",
       "A2ML1         3.169925   1.000000  14.177044  \n",
       "...                ...        ...        ...  \n",
       "ZYG11A        2.584963   6.022368   7.749101  \n",
       "ZYG11B       10.484823  11.357002   1.159772  \n",
       "ZYX          14.705632  10.995060   1.040186  \n",
       "ZZEF1        11.293472   9.560333   1.005881  \n",
       "ZZZ3          9.588715   8.957102   0.925655  \n",
       "\n",
       "[19417 rows x 10006 columns]"
      ]
     },
     "execution_count": 67,
     "metadata": {},
     "output_type": "execute_result"
    }
   ],
   "source": [
    "merged_up_trans"
   ]
  },
  {
   "cell_type": "code",
   "execution_count": 72,
   "id": "17c3561f",
   "metadata": {},
   "outputs": [],
   "source": [
    "combined = pd.merge(merged_up_trans,df_var_merged_up, on=\"Gene_symbol\",how=\"inner\")"
   ]
  },
  {
   "cell_type": "code",
   "execution_count": 74,
   "id": "8ceb56b9",
   "metadata": {},
   "outputs": [],
   "source": [
    "combined_up = combined.iloc[:,:-2]"
   ]
  },
  {
   "cell_type": "code",
   "execution_count": 76,
   "id": "00accc83",
   "metadata": {},
   "outputs": [],
   "source": [
    "combined_up_trans = combined_up.T"
   ]
  },
  {
   "cell_type": "code",
   "execution_count": 77,
   "id": "59cb9839",
   "metadata": {},
   "outputs": [],
   "source": [
    "combined_up_trans.to_csv(\"after_var_filter_17_types.csv\",index=True)"
   ]
  },
  {
   "cell_type": "code",
   "execution_count": 1,
   "id": "35c2e65f",
   "metadata": {},
   "outputs": [],
   "source": [
    "import pandas as pd\n",
    "import numpy as np\n",
    "import os"
   ]
  },
  {
   "cell_type": "code",
   "execution_count": 79,
   "id": "f2b5e9a9",
   "metadata": {},
   "outputs": [],
   "source": [
    "labels = pd.read_csv(\"labels.up.txt\", index_col=0)"
   ]
  },
  {
   "cell_type": "code",
   "execution_count": 80,
   "id": "3b6fe326",
   "metadata": {},
   "outputs": [
    {
     "data": {
      "text/html": [
       "<div>\n",
       "<style scoped>\n",
       "    .dataframe tbody tr th:only-of-type {\n",
       "        vertical-align: middle;\n",
       "    }\n",
       "\n",
       "    .dataframe tbody tr th {\n",
       "        vertical-align: top;\n",
       "    }\n",
       "\n",
       "    .dataframe thead th {\n",
       "        text-align: right;\n",
       "    }\n",
       "</style>\n",
       "<table border=\"1\" class=\"dataframe\">\n",
       "  <thead>\n",
       "    <tr style=\"text-align: right;\">\n",
       "      <th></th>\n",
       "      <th>labels</th>\n",
       "    </tr>\n",
       "    <tr>\n",
       "      <th>Sample.name</th>\n",
       "      <th></th>\n",
       "    </tr>\n",
       "  </thead>\n",
       "  <tbody>\n",
       "    <tr>\n",
       "      <th>GBM.T.136</th>\n",
       "      <td>TUMOR</td>\n",
       "    </tr>\n",
       "    <tr>\n",
       "      <th>GBM.T.108</th>\n",
       "      <td>TUMOR</td>\n",
       "    </tr>\n",
       "    <tr>\n",
       "      <th>GBM.T.115</th>\n",
       "      <td>TUMOR</td>\n",
       "    </tr>\n",
       "    <tr>\n",
       "      <th>GBM.T.159</th>\n",
       "      <td>TUMOR</td>\n",
       "    </tr>\n",
       "    <tr>\n",
       "      <th>GBM.T.116</th>\n",
       "      <td>TUMOR</td>\n",
       "    </tr>\n",
       "    <tr>\n",
       "      <th>...</th>\n",
       "      <td>...</td>\n",
       "    </tr>\n",
       "    <tr>\n",
       "      <th>THYM.N.2</th>\n",
       "      <td>NORMAL</td>\n",
       "    </tr>\n",
       "    <tr>\n",
       "      <th>THYM.N.1</th>\n",
       "      <td>NORMAL</td>\n",
       "    </tr>\n",
       "    <tr>\n",
       "      <th>KIRP.N.28</th>\n",
       "      <td>NORMAL</td>\n",
       "    </tr>\n",
       "    <tr>\n",
       "      <th>PAAD.N.2</th>\n",
       "      <td>NORMAL</td>\n",
       "    </tr>\n",
       "    <tr>\n",
       "      <th>CHOL.N.2</th>\n",
       "      <td>NORMAL</td>\n",
       "    </tr>\n",
       "  </tbody>\n",
       "</table>\n",
       "<p>10005 rows × 1 columns</p>\n",
       "</div>"
      ],
      "text/plain": [
       "             labels\n",
       "Sample.name        \n",
       "GBM.T.136     TUMOR\n",
       "GBM.T.108     TUMOR\n",
       "GBM.T.115     TUMOR\n",
       "GBM.T.159     TUMOR\n",
       "GBM.T.116     TUMOR\n",
       "...             ...\n",
       "THYM.N.2     NORMAL\n",
       "THYM.N.1     NORMAL\n",
       "KIRP.N.28    NORMAL\n",
       "PAAD.N.2     NORMAL\n",
       "CHOL.N.2     NORMAL\n",
       "\n",
       "[10005 rows x 1 columns]"
      ]
     },
     "execution_count": 80,
     "metadata": {},
     "output_type": "execute_result"
    }
   ],
   "source": [
    "labels"
   ]
  },
  {
   "cell_type": "code",
   "execution_count": 81,
   "id": "d6bc5c78",
   "metadata": {},
   "outputs": [],
   "source": [
    "combined_updated = pd.concat([combined_up_trans, labels], axis=1, join='outer')"
   ]
  },
  {
   "cell_type": "code",
   "execution_count": 90,
   "id": "bd65623a",
   "metadata": {},
   "outputs": [],
   "source": [
    "combined_up = combined_updated.iloc[:,:-3]"
   ]
  },
  {
   "cell_type": "code",
   "execution_count": null,
   "id": "4f1632e5",
   "metadata": {},
   "outputs": [],
   "source": [
    "combined_up.to_csv(\"merged_final_17_types.csv\", index=True)"
   ]
  },
  {
   "cell_type": "code",
   "execution_count": 2,
   "id": "f5b47761",
   "metadata": {},
   "outputs": [],
   "source": [
    "combined_updated = pd.read_csv(\"merged_final_17_types.csv\", index_col = 0)"
   ]
  },
  {
   "cell_type": "code",
   "execution_count": 3,
   "id": "b8e8a688",
   "metadata": {},
   "outputs": [
    {
     "data": {
      "text/plain": [
       "TUMOR     9264\n",
       "NORMAL     741\n",
       "Name: labels, dtype: int64"
      ]
     },
     "execution_count": 3,
     "metadata": {},
     "output_type": "execute_result"
    }
   ],
   "source": [
    "combined_updated[\"labels\"].value_counts()"
   ]
  },
  {
   "cell_type": "code",
   "execution_count": 4,
   "id": "b5cfd226",
   "metadata": {},
   "outputs": [],
   "source": [
    "Taget_labels = combined_updated[\"labels\"].unique()"
   ]
  },
  {
   "cell_type": "code",
   "execution_count": 5,
   "id": "2b91b551",
   "metadata": {},
   "outputs": [
    {
     "data": {
      "text/plain": [
       "array([1, 0])"
      ]
     },
     "execution_count": 5,
     "metadata": {},
     "output_type": "execute_result"
    }
   ],
   "source": [
    "# Import label encoder\n",
    "from sklearn import preprocessing\n",
    "# label_encoder object knows how to understand word labels.\n",
    "label_encoder = preprocessing.LabelEncoder()\n",
    "# Encode labels in column 'label'.\n",
    "combined_updated['labels']= label_encoder.fit_transform(combined_updated['labels'])\n",
    "#To have a list of unique enteries.\n",
    "combined_updated['labels'].unique()"
   ]
  },
  {
   "cell_type": "code",
   "execution_count": 6,
   "id": "9b3f96fc",
   "metadata": {},
   "outputs": [
    {
     "data": {
      "text/plain": [
       "1    9264\n",
       "0     741\n",
       "Name: labels, dtype: int64"
      ]
     },
     "execution_count": 6,
     "metadata": {},
     "output_type": "execute_result"
    }
   ],
   "source": [
    "#counting the number of classes\n",
    "combined_updated[\"labels\"].value_counts()"
   ]
  },
  {
   "cell_type": "code",
   "execution_count": 8,
   "id": "9f17220a",
   "metadata": {},
   "outputs": [],
   "source": [
    "#Assigning the numerical data to a \"X\" variable and labels column into a \"y\" variable that will be used in the next steps\n",
    "X = combined_updated.iloc[:,:-1]\n",
    "y = combined_updated[\"labels\"]"
   ]
  },
  {
   "cell_type": "code",
   "execution_count": 9,
   "id": "e3b1853b",
   "metadata": {},
   "outputs": [],
   "source": [
    "#importing train_test_split \n",
    "from sklearn.model_selection import train_test_split\n",
    "X_train, X_test ,Y_train, Y_test = train_test_split(X, y, test_size =0.30, random_state=42)"
   ]
  },
  {
   "cell_type": "code",
   "execution_count": 72,
   "id": "20d31bd8",
   "metadata": {},
   "outputs": [
    {
     "data": {
      "text/plain": [
       "(3002, 11944)"
      ]
     },
     "execution_count": 72,
     "metadata": {},
     "output_type": "execute_result"
    }
   ],
   "source": [
    "X_test.shape"
   ]
  },
  {
   "cell_type": "code",
   "execution_count": null,
   "id": "0ca62b2e",
   "metadata": {},
   "outputs": [],
   "source": [
    "#########Plotting TSNE plot to check whether problem is linear or not#######"
   ]
  },
  {
   "cell_type": "code",
   "execution_count": 87,
   "id": "570ef80b",
   "metadata": {},
   "outputs": [
    {
     "data": {
      "image/png": "[encoded data removed]",
      "text/plain": [
       "<Figure size 432x288 with 1 Axes>"
      ]
     },
     "metadata": {
      "needs_background": "light"
     },
     "output_type": "display_data"
    }
   ],
   "source": [
    "import matplotlib.pyplot as plt\n",
    "import seaborn as sns\n",
    "from sklearn.manifold import TSNE\n",
    "fig, ax = plt.subplots()\n",
    "m = TSNE(learning_rate=50)\n",
    "X_tsne = m.fit_transform(X)\n",
    "combined_updated[\"y\"] = Y_train\n",
    "combined_updated[\"comp-1\"] = X_tsne[:,0]\n",
    "combined_updated[\"comp-2\"] = X_tsne[:,1]"
   ]
  },
  {
   "cell_type": "code",
   "execution_count": 88,
   "id": "b93ddee7",
   "metadata": {},
   "outputs": [
    {
     "data": {
      "image/png": "[encoded data removed]",
      "text/plain": [
       "<Figure size 432x288 with 1 Axes>"
      ]
     },
     "metadata": {
      "needs_background": "light"
     },
     "output_type": "display_data"
    }
   ],
   "source": [
    "sns.scatterplot(x=\"comp-1\", y=\"comp-2\", hue=combined_updated.y.tolist(),\n",
    "                palette=sns.color_palette('tab10', 2),\n",
    "                data=combined_updated).set(title=\"Cancer_binary_data T-SNE projection\")\n",
    "plt.savefig(\"binary_TSNE.png\", dpi = 1200)"
   ]
  },
  {
   "cell_type": "code",
   "execution_count": 10,
   "id": "0534e985",
   "metadata": {},
   "outputs": [],
   "source": [
    "from sklearn.preprocessing import StandardScaler\n",
    "sc= StandardScaler()\n",
    "X_train = sc.fit_transform(X_train)\n",
    "X_test = sc.transform(X_test)"
   ]
  },
  {
   "cell_type": "code",
   "execution_count": 11,
   "id": "e0e25de3",
   "metadata": {},
   "outputs": [],
   "source": [
    "from sklearn.metrics import accuracy_score\n",
    "from sklearn.metrics import precision_score\n",
    "from sklearn.metrics import recall_score\n",
    "from sklearn.metrics import f1_score\n",
    "from sklearn.metrics import classification_report\n",
    "import matplotlib.pyplot as plt\n",
    "from sklearn.metrics import confusion_matrix\n",
    "from sklearn.metrics import plot_confusion_matrix"
   ]
  },
  {
   "cell_type": "code",
   "execution_count": 12,
   "id": "84ad13c5",
   "metadata": {},
   "outputs": [],
   "source": [
    "from sklearn.neighbors import KNeighborsClassifier"
   ]
  },
  {
   "cell_type": "code",
   "execution_count": 13,
   "id": "69df017a",
   "metadata": {},
   "outputs": [
    {
     "name": "stdout",
     "output_type": "stream",
     "text": [
      "accuracy 0.9826782145236509\n"
     ]
    }
   ],
   "source": [
    "KNN = KNeighborsClassifier(n_neighbors=7, metric='minkowski', p=1)\n",
    "KNN.fit(X_train,Y_train)\n",
    "# predict samples in the test set\n",
    "prediction = KNN.predict(X_test)\n",
    "Accuracy = accuracy_score(Y_test,prediction)\n",
    "print('accuracy',Accuracy)"
   ]
  },
  {
   "cell_type": "code",
   "execution_count": 20,
   "id": "fe5b7388",
   "metadata": {},
   "outputs": [
    {
     "name": "stdout",
     "output_type": "stream",
     "text": [
      "0.992100538599641\n",
      "0.9892588614393125\n",
      "0.9906776622445321\n"
     ]
    }
   ],
   "source": [
    "print(precision_score(Y_test,prediction))\n",
    "print(recall_score(Y_test,prediction))\n",
    "print(f1_score(Y_test,prediction))"
   ]
  },
  {
   "cell_type": "code",
   "execution_count": 26,
   "id": "8a57ff1a",
   "metadata": {},
   "outputs": [],
   "source": [
    "import seaborn as sns"
   ]
  },
  {
   "cell_type": "code",
   "execution_count": 27,
   "id": "b030df5b",
   "metadata": {},
   "outputs": [
    {
     "data": {
      "image/png": "[encoded data removed]",
      "text/plain": [
       "<Figure size 792x576 with 2 Axes>"
      ]
     },
     "metadata": {
      "needs_background": "light"
     },
     "output_type": "display_data"
    }
   ],
   "source": [
    "ax = plt.subplot()\n",
    "sns.set(font_scale=2.5) # Adjust to fit\n",
    "matrix= plot_confusion_matrix(KNN,X_test,Y_test,ax=ax, cmap=plt.cm.cubehelix)\n",
    "plt.xlabel('predicted label',color='black')\n",
    "plt.ylabel('true label',color='black')\n",
    "plt.gcf().axes[0].tick_params(color='white')\n",
    "plt.gcf().axes[1].tick_params(color='white')\n",
    "plt.gcf().set_size_inches(11,8)\n",
    "plt.savefig(\"KNN.png\", dpi = 1200)\n",
    "plt.show()"
   ]
  },
  {
   "cell_type": "code",
   "execution_count": 14,
   "id": "c27f226d",
   "metadata": {},
   "outputs": [
    {
     "name": "stdout",
     "output_type": "stream",
     "text": [
      "accuracy 0.9906728847435043\n"
     ]
    }
   ],
   "source": [
    "#SVC_RBF \n",
    "from sklearn.svm import SVC\n",
    "# Training a SVM classifier using SVC class\n",
    "svm_rbf = SVC(kernel='rbf', probability=True, random_state=40)\n",
    "svm_rbf.fit(X_train,Y_train).decision_function(X_test)\n",
    "prediction = svm_rbf.predict(X_test)\n",
    "Accuracy = accuracy_score(Y_test,prediction)\n",
    "print('accuracy',Accuracy)"
   ]
  },
  {
   "cell_type": "code",
   "execution_count": 17,
   "id": "784da048",
   "metadata": {},
   "outputs": [
    {
     "name": "stdout",
     "output_type": "stream",
     "text": [
      "0.993926402286531\n",
      "0.9960615825277479\n",
      "0.9949928469241774\n"
     ]
    }
   ],
   "source": [
    "print(precision_score(Y_test,prediction))\n",
    "print(recall_score(Y_test,prediction))\n",
    "print(f1_score(Y_test,prediction))"
   ]
  },
  {
   "cell_type": "code",
   "execution_count": 18,
   "id": "857be40b",
   "metadata": {},
   "outputs": [
    {
     "data": {
      "image/png": "[encoded data removed]",
      "text/plain": [
       "<Figure size 720x432 with 2 Axes>"
      ]
     },
     "metadata": {
      "needs_background": "light"
     },
     "output_type": "display_data"
    }
   ],
   "source": [
    "plot_confusion_matrix(svm_rbf,X_test,Y_test,cmap=plt.cm.Reds)\n",
    "plt.xlabel('predicted label',color='black')\n",
    "plt.ylabel('true label',color='black')\n",
    "plt.gcf().axes[0].tick_params(color='white')\n",
    "plt.gcf().axes[1].tick_params(color='white')\n",
    "plt.gcf().set_size_inches(10,6)\n",
    "plt.savefig(\"SVM_rbf.png\", dpi = 1200)\n",
    "plt.show()"
   ]
  },
  {
   "cell_type": "code",
   "execution_count": 15,
   "id": "cbe2e1e8",
   "metadata": {},
   "outputs": [
    {
     "name": "stdout",
     "output_type": "stream",
     "text": [
      "accuracy 0.9930046635576283\n"
     ]
    }
   ],
   "source": [
    "#SVC_linear\n",
    "from sklearn.svm import SVC\n",
    "# Training a SVM classifier using SVC class\n",
    "svm_linear = SVC(kernel='linear', probability=True, random_state=40)\n",
    "svm_linear.fit(X_train,Y_train).decision_function(X_test)\n",
    "prediction = svm_linear.predict(X_test)\n",
    "Accuracy = accuracy_score(Y_test,prediction)\n",
    "print('accuracy',Accuracy)"
   ]
  },
  {
   "cell_type": "code",
   "execution_count": 20,
   "id": "de00486a",
   "metadata": {},
   "outputs": [
    {
     "name": "stdout",
     "output_type": "stream",
     "text": [
      "0.9964183381088825\n",
      "0.9960615825277479\n",
      "0.9962399283795882\n"
     ]
    }
   ],
   "source": [
    "print(precision_score(Y_test,prediction))\n",
    "print(recall_score(Y_test,prediction))\n",
    "print(f1_score(Y_test,prediction))"
   ]
  },
  {
   "cell_type": "code",
   "execution_count": 21,
   "id": "1879c73e",
   "metadata": {},
   "outputs": [
    {
     "data": {
      "image/png": "[encoded data removed]",
      "text/plain": [
       "<Figure size 720x432 with 2 Axes>"
      ]
     },
     "metadata": {
      "needs_background": "light"
     },
     "output_type": "display_data"
    }
   ],
   "source": [
    "plot_confusion_matrix(svm_linear,X_test,Y_test,cmap=plt.cm.Reds)\n",
    "plt.xlabel('predicted label',color='black')\n",
    "plt.ylabel('true label',color='black')\n",
    "plt.gcf().axes[0].tick_params(color='white')\n",
    "plt.gcf().axes[1].tick_params(color='white')\n",
    "plt.gcf().set_size_inches(10,6)\n",
    "plt.savefig(\"SVM_linear.png\", dpi = 1200)\n",
    "plt.show()"
   ]
  },
  {
   "cell_type": "code",
   "execution_count": 16,
   "id": "8d264a23",
   "metadata": {},
   "outputs": [
    {
     "name": "stdout",
     "output_type": "stream",
     "text": [
      "accuracy 0.9860093271152565\n"
     ]
    }
   ],
   "source": [
    "#SVC_poly\n",
    "from sklearn.svm import SVC\n",
    "# Training a SVM classifier using SVC class\n",
    "svm_poly = SVC(kernel='poly', probability=True, random_state=40)\n",
    "svm_poly.fit(X_train,Y_train).decision_function(X_test)\n",
    "prediction = svm_poly.predict(X_test)\n",
    "Accuracy = accuracy_score(Y_test,prediction)\n",
    "print('accuracy',Accuracy)"
   ]
  },
  {
   "cell_type": "code",
   "execution_count": 24,
   "id": "62946009",
   "metadata": {},
   "outputs": [
    {
     "name": "stdout",
     "output_type": "stream",
     "text": [
      "0.9869026548672566\n",
      "0.9982098102398854\n",
      "0.9925240299038803\n"
     ]
    }
   ],
   "source": [
    "print(precision_score(Y_test,prediction))\n",
    "print(recall_score(Y_test,prediction))\n",
    "print(f1_score(Y_test,prediction))"
   ]
  },
  {
   "cell_type": "code",
   "execution_count": 25,
   "id": "79b16fce",
   "metadata": {},
   "outputs": [
    {
     "data": {
      "image/png": "[encoded data removed]",
      "text/plain": [
       "<Figure size 720x432 with 2 Axes>"
      ]
     },
     "metadata": {
      "needs_background": "light"
     },
     "output_type": "display_data"
    }
   ],
   "source": [
    "plot_confusion_matrix(svm_poly,X_test,Y_test,cmap=plt.cm.Reds)\n",
    "plt.xlabel('predicted label',color='black')\n",
    "plt.ylabel('true label',color='black')\n",
    "plt.gcf().axes[0].tick_params(color='white')\n",
    "plt.gcf().axes[1].tick_params(color='white')\n",
    "plt.gcf().set_size_inches(10,6)\n",
    "plt.savefig(\"SVM_poly.png\", dpi = 1200)\n",
    "plt.show()"
   ]
  },
  {
   "cell_type": "code",
   "execution_count": 17,
   "id": "e911533e",
   "metadata": {},
   "outputs": [
    {
     "name": "stdout",
     "output_type": "stream",
     "text": [
      "accuracy 0.8344437041972018\n"
     ]
    }
   ],
   "source": [
    "#Naive bayes\n",
    "from sklearn.naive_bayes import GaussianNB\n",
    "# Init the Gaussian Classifier\n",
    "NB = GaussianNB()\n",
    "NB.fit(X_train, Y_train)\n",
    "prediction = NB.predict(X_test)\n",
    "Accuracy = accuracy_score(Y_test,prediction)\n",
    "print('accuracy',Accuracy)"
   ]
  },
  {
   "cell_type": "code",
   "execution_count": 27,
   "id": "ff569991",
   "metadata": {},
   "outputs": [
    {
     "name": "stdout",
     "output_type": "stream",
     "text": [
      "0.9914383561643836\n",
      "0.8292158968850698\n",
      "0.9031000194969779\n"
     ]
    }
   ],
   "source": [
    "print(precision_score(Y_test,prediction))\n",
    "print(recall_score(Y_test,prediction))\n",
    "print(f1_score(Y_test,prediction))"
   ]
  },
  {
   "cell_type": "code",
   "execution_count": 28,
   "id": "2170225e",
   "metadata": {},
   "outputs": [
    {
     "data": {
      "image/png": "[encoded data removed]",
      "text/plain": [
       "<Figure size 720x432 with 2 Axes>"
      ]
     },
     "metadata": {
      "needs_background": "light"
     },
     "output_type": "display_data"
    }
   ],
   "source": [
    "plot_confusion_matrix(NB,X_test,Y_test,cmap=plt.cm.Reds)\n",
    "plt.xlabel('predicted label',color='black')\n",
    "plt.ylabel('true label',color='black')\n",
    "plt.gcf().axes[0].tick_params(color='white')\n",
    "plt.gcf().axes[1].tick_params(color='white')\n",
    "plt.gcf().set_size_inches(10,6)\n",
    "plt.savefig(\"NB.png\", dpi = 1200)\n",
    "plt.show()"
   ]
  },
  {
   "cell_type": "code",
   "execution_count": 18,
   "id": "e83fb94f",
   "metadata": {},
   "outputs": [
    {
     "name": "stdout",
     "output_type": "stream",
     "text": [
      "accuracy 0.9746835443037974\n"
     ]
    }
   ],
   "source": [
    "#DECISION TREE CLASSIFIER before hyperparameter tuning\n",
    "from sklearn.tree import DecisionTreeClassifier  \n",
    "DT= DecisionTreeClassifier(random_state=0)\n",
    "DT.fit(X_train, Y_train)\n",
    "prediction = DT.predict(X_test)\n",
    "Accuracy = accuracy_score(Y_test,prediction)\n",
    "print('accuracy',Accuracy)"
   ]
  },
  {
   "cell_type": "code",
   "execution_count": 30,
   "id": "2522f775",
   "metadata": {},
   "outputs": [
    {
     "name": "stdout",
     "output_type": "stream",
     "text": [
      "0.986046511627907\n",
      "0.9867525957751522\n",
      "0.9863994273443093\n"
     ]
    }
   ],
   "source": [
    "print(precision_score(Y_test,prediction))\n",
    "print(recall_score(Y_test,prediction))\n",
    "print(f1_score(Y_test,prediction))"
   ]
  },
  {
   "cell_type": "code",
   "execution_count": 31,
   "id": "9dcca2bb",
   "metadata": {},
   "outputs": [
    {
     "data": {
      "image/png": "[encoded data removed]",
      "text/plain": [
       "<Figure size 720x432 with 2 Axes>"
      ]
     },
     "metadata": {
      "needs_background": "light"
     },
     "output_type": "display_data"
    }
   ],
   "source": [
    "plot_confusion_matrix(DT,X_test,Y_test,cmap=plt.cm.Reds)\n",
    "plt.xlabel('predicted label',color='black')\n",
    "plt.ylabel('true label',color='black')\n",
    "plt.gcf().axes[0].tick_params(color='white')\n",
    "plt.gcf().axes[1].tick_params(color='white')\n",
    "plt.gcf().set_size_inches(10,6)\n",
    "plt.savefig(\"DT.png\", dpi = 1200)\n",
    "plt.show()"
   ]
  },
  {
   "cell_type": "code",
   "execution_count": 19,
   "id": "c82cb980",
   "metadata": {},
   "outputs": [
    {
     "name": "stdout",
     "output_type": "stream",
     "text": [
      "accuracy 0.9930046635576283\n"
     ]
    }
   ],
   "source": [
    "from sklearn.ensemble import AdaBoostClassifier\n",
    "# define the model\n",
    "AB = AdaBoostClassifier()\n",
    "AB.fit(X_train, Y_train)\n",
    "prediction = AB.predict(X_test)\n",
    "Accuracy = accuracy_score(Y_test,prediction)\n",
    "print('accuracy',Accuracy)"
   ]
  },
  {
   "cell_type": "code",
   "execution_count": 33,
   "id": "3f0d39e8",
   "metadata": {},
   "outputs": [
    {
     "name": "stdout",
     "output_type": "stream",
     "text": [
      "0.995\n",
      "0.9974937343358395\n",
      "0.9962453066332916\n"
     ]
    }
   ],
   "source": [
    "print(precision_score(Y_test,prediction))\n",
    "print(recall_score(Y_test,prediction))\n",
    "print(f1_score(Y_test,prediction))"
   ]
  },
  {
   "cell_type": "code",
   "execution_count": 34,
   "id": "498dc36c",
   "metadata": {},
   "outputs": [
    {
     "data": {
      "image/png": "[encoded data removed]",
      "text/plain": [
       "<Figure size 720x432 with 2 Axes>"
      ]
     },
     "metadata": {
      "needs_background": "light"
     },
     "output_type": "display_data"
    }
   ],
   "source": [
    "plot_confusion_matrix(AB,X_test,Y_test,cmap=plt.cm.Reds)\n",
    "plt.xlabel('predicted label',color='black')\n",
    "plt.ylabel('true label',color='black')\n",
    "plt.gcf().axes[0].tick_params(color='white')\n",
    "plt.gcf().axes[1].tick_params(color='white')\n",
    "plt.gcf().set_size_inches(10,6)\n",
    "plt.savefig(\"AB.png\", dpi = 1200)\n",
    "plt.show()"
   ]
  },
  {
   "cell_type": "code",
   "execution_count": 21,
   "id": "831ed4a7",
   "metadata": {},
   "outputs": [
    {
     "name": "stdout",
     "output_type": "stream",
     "text": [
      "Collecting xgboost\n",
      "  Downloading xgboost-1.5.2-py3-none-manylinux2014_x86_64.whl (173.6 MB)\n",
      "\u001b[K     |████████████████████████████████| 173.6 MB 10 kB/s  eta 0:00:011\n",
      "\u001b[?25hRequirement already satisfied: scipy in /home/drwaseem/anaconda3/lib/python3.9/site-packages (from xgboost) (1.7.1)\n",
      "Requirement already satisfied: numpy in /home/drwaseem/anaconda3/lib/python3.9/site-packages (from xgboost) (1.20.3)\n",
      "Installing collected packages: xgboost\n",
      "Successfully installed xgboost-1.5.2\n",
      "Note: you may need to restart the kernel to use updated packages.\n"
     ]
    }
   ],
   "source": [
    "pip install xgboost"
   ]
  },
  {
   "cell_type": "code",
   "execution_count": 22,
   "id": "29cf42d4",
   "metadata": {},
   "outputs": [
    {
     "name": "stderr",
     "output_type": "stream",
     "text": [
      "/home/drwaseem/anaconda3/lib/python3.9/site-packages/xgboost/sklearn.py:1224: UserWarning: The use of label encoder in XGBClassifier is deprecated and will be removed in a future release. To remove this warning, do the following: 1) Pass option use_label_encoder=False when constructing XGBClassifier object; and 2) Encode your labels (y) as integers starting with 0, i.e. 0, 1, 2, ..., [num_class - 1].\n",
      "  warnings.warn(label_encoder_deprecation_msg, UserWarning)\n"
     ]
    },
    {
     "name": "stdout",
     "output_type": "stream",
     "text": [
      "[14:06:53] WARNING: ../src/learner.cc:1115: Starting in XGBoost 1.3.0, the default evaluation metric used with the objective 'binary:logistic' was changed from 'error' to 'logloss'. Explicitly set eval_metric if you'd like to restore the old behavior.\n",
      "accuracy 0.9940039973351099\n"
     ]
    }
   ],
   "source": [
    "from xgboost import XGBClassifier\n",
    "# define the model\n",
    "XG = XGBClassifier()\n",
    "XG.fit(X_train, Y_train)\n",
    "prediction = XG.predict(X_test)\n",
    "Accuracy = accuracy_score(Y_test,prediction)\n",
    "print('accuracy',Accuracy)"
   ]
  },
  {
   "cell_type": "code",
   "execution_count": 36,
   "id": "83b6ac1a",
   "metadata": {},
   "outputs": [
    {
     "name": "stdout",
     "output_type": "stream",
     "text": [
      "0.9953588004284184\n",
      "0.9982098102398854\n",
      "0.9967822667143368\n"
     ]
    }
   ],
   "source": [
    "print(precision_score(Y_test,prediction))\n",
    "print(recall_score(Y_test,prediction))\n",
    "print(f1_score(Y_test,prediction))"
   ]
  },
  {
   "cell_type": "code",
   "execution_count": 37,
   "id": "57ee1fc5",
   "metadata": {},
   "outputs": [
    {
     "data": {
      "image/png": "[encoded data removed]",
      "text/plain": [
       "<Figure size 720x432 with 2 Axes>"
      ]
     },
     "metadata": {
      "needs_background": "light"
     },
     "output_type": "display_data"
    }
   ],
   "source": [
    "plot_confusion_matrix(XG,X_test,Y_test,cmap=plt.cm.Reds)\n",
    "plt.xlabel('predicted label',color='black')\n",
    "plt.ylabel('true label',color='black')\n",
    "plt.gcf().axes[0].tick_params(color='white')\n",
    "plt.gcf().axes[1].tick_params(color='white')\n",
    "plt.gcf().set_size_inches(10,6)\n",
    "plt.savefig(\"XG.png\", dpi = 1200)\n",
    "plt.show()"
   ]
  },
  {
   "cell_type": "code",
   "execution_count": 23,
   "id": "c8719a44",
   "metadata": {},
   "outputs": [
    {
     "name": "stdout",
     "output_type": "stream",
     "text": [
      "accuracy 0.9846768820786143\n"
     ]
    }
   ],
   "source": [
    "from sklearn.ensemble import RandomForestClassifier\n",
    "# define the model\n",
    "RF = RandomForestClassifier()\n",
    "RF.fit(X_train, Y_train)\n",
    "prediction = RF.predict(X_test)\n",
    "Accuracy = accuracy_score(Y_test,prediction)\n",
    "print('accuracy',Accuracy)"
   ]
  },
  {
   "cell_type": "code",
   "execution_count": 39,
   "id": "de0f57ad",
   "metadata": {},
   "outputs": [
    {
     "name": "stdout",
     "output_type": "stream",
     "text": [
      "0.9841101694915254\n",
      "0.9978517722878625\n",
      "0.9909333333333332\n"
     ]
    }
   ],
   "source": [
    "print(precision_score(Y_test,prediction))\n",
    "print(recall_score(Y_test,prediction))\n",
    "print(f1_score(Y_test,prediction))"
   ]
  },
  {
   "cell_type": "code",
   "execution_count": 40,
   "id": "969aa9a8",
   "metadata": {},
   "outputs": [
    {
     "data": {
      "image/png": "[encoded data removed]",
      "text/plain": [
       "<Figure size 720x432 with 2 Axes>"
      ]
     },
     "metadata": {
      "needs_background": "light"
     },
     "output_type": "display_data"
    }
   ],
   "source": [
    "plot_confusion_matrix(RF,X_test,Y_test,cmap=plt.cm.Reds)\n",
    "plt.xlabel('predicted label',color='black')\n",
    "plt.ylabel('true label',color='black')\n",
    "plt.gcf().axes[0].tick_params(color='white')\n",
    "plt.gcf().axes[1].tick_params(color='white')\n",
    "plt.gcf().set_size_inches(10,6)\n",
    "plt.savefig(\"RF.png\", dpi = 1200)\n",
    "plt.show()"
   ]
  },
  {
   "cell_type": "code",
   "execution_count": 24,
   "id": "9cd8b3c0",
   "metadata": {},
   "outputs": [
    {
     "name": "stdout",
     "output_type": "stream",
     "text": [
      "accuracy 0.9926715522984677\n"
     ]
    },
    {
     "name": "stderr",
     "output_type": "stream",
     "text": [
      "/home/drwaseem/anaconda3/lib/python3.9/site-packages/sklearn/linear_model/_logistic.py:763: ConvergenceWarning: lbfgs failed to converge (status=1):\n",
      "STOP: TOTAL NO. of ITERATIONS REACHED LIMIT.\n",
      "\n",
      "Increase the number of iterations (max_iter) or scale the data as shown in:\n",
      "    https://scikit-learn.org/stable/modules/preprocessing.html\n",
      "Please also refer to the documentation for alternative solver options:\n",
      "    https://scikit-learn.org/stable/modules/linear_model.html#logistic-regression\n",
      "  n_iter_i = _check_optimize_result(\n"
     ]
    }
   ],
   "source": [
    "from sklearn.linear_model import LogisticRegression\n",
    "LR = LogisticRegression()\n",
    "LR.fit(X_train, Y_train)\n",
    "prediction = LR.predict(X_test)\n",
    "Accuracy = accuracy_score(Y_test,prediction)\n",
    "print('accuracy',Accuracy)"
   ]
  },
  {
   "cell_type": "code",
   "execution_count": 47,
   "id": "31cd54aa",
   "metadata": {},
   "outputs": [
    {
     "name": "stdout",
     "output_type": "stream",
     "text": [
      "0.995706618962433\n",
      "0.9964196204797708\n",
      "0.9960629921259843\n"
     ]
    }
   ],
   "source": [
    "print(precision_score(Y_test,prediction))\n",
    "print(recall_score(Y_test,prediction))\n",
    "print(f1_score(Y_test,prediction))"
   ]
  },
  {
   "cell_type": "code",
   "execution_count": 48,
   "id": "d4b9b76b",
   "metadata": {},
   "outputs": [
    {
     "data": {
      "image/png": "[encoded data removed]",
      "text/plain": [
       "<Figure size 720x432 with 2 Axes>"
      ]
     },
     "metadata": {
      "needs_background": "light"
     },
     "output_type": "display_data"
    }
   ],
   "source": [
    "plot_confusion_matrix(LR,X_test,Y_test,cmap=plt.cm.Reds)\n",
    "plt.xlabel('predicted label',color='black')\n",
    "plt.ylabel('true label',color='black')\n",
    "plt.gcf().axes[0].tick_params(color='white')\n",
    "plt.gcf().axes[1].tick_params(color='white')\n",
    "plt.gcf().set_size_inches(10,6)\n",
    "plt.savefig(\"LR.png\", dpi = 1200)\n",
    "plt.show()"
   ]
  },
  {
   "cell_type": "code",
   "execution_count": 25,
   "id": "36de9012",
   "metadata": {},
   "outputs": [
    {
     "name": "stdout",
     "output_type": "stream",
     "text": [
      "accuracy 0.9883411059293804\n"
     ]
    }
   ],
   "source": [
    "from sklearn.neural_network import MLPClassifier\n",
    "MLP_ANN = MLPClassifier()\n",
    "MLP_ANN.fit(X_train, Y_train)\n",
    "prediction = MLP_ANN.predict(X_test)\n",
    "Accuracy = accuracy_score(Y_test,prediction)\n",
    "print('accuracy',Accuracy)"
   ]
  },
  {
   "cell_type": "code",
   "execution_count": 42,
   "id": "ed52abd4",
   "metadata": {},
   "outputs": [
    {
     "name": "stdout",
     "output_type": "stream",
     "text": [
      "0.9949910554561717\n",
      "0.9957035445757251\n",
      "0.9953471725125269\n"
     ]
    }
   ],
   "source": [
    "print(precision_score(Y_test,prediction))\n",
    "print(recall_score(Y_test,prediction))\n",
    "print(f1_score(Y_test,prediction))"
   ]
  },
  {
   "cell_type": "code",
   "execution_count": 43,
   "id": "f70e8c6e",
   "metadata": {},
   "outputs": [
    {
     "data": {
      "image/png": "[encoded data removed]",
      "text/plain": [
       "<Figure size 720x432 with 2 Axes>"
      ]
     },
     "metadata": {
      "needs_background": "light"
     },
     "output_type": "display_data"
    }
   ],
   "source": [
    "plot_confusion_matrix(MLP_ANN,X_test,Y_test,cmap=plt.cm.Reds)\n",
    "plt.xlabel('predicted label',color='black')\n",
    "plt.ylabel('true label',color='black')\n",
    "plt.gcf().axes[0].tick_params(color='white')\n",
    "plt.gcf().axes[1].tick_params(color='white')\n",
    "plt.gcf().set_size_inches(10,6)\n",
    "plt.savefig(\"MLP_ANN.png\", dpi = 1200)\n",
    "plt.show()"
   ]
  },
  {
   "cell_type": "code",
   "execution_count": 26,
   "id": "2643ce95",
   "metadata": {},
   "outputs": [],
   "source": [
    "# roc curve and auc\n",
    "from sklearn.metrics import roc_curve\n",
    "from sklearn.metrics import roc_auc_score\n",
    "from matplotlib import pyplot"
   ]
  },
  {
   "cell_type": "code",
   "execution_count": 27,
   "id": "2ba5ed08",
   "metadata": {},
   "outputs": [],
   "source": [
    "ns_probs = [0 for _ in range(len(Y_test))]\n",
    "KNN_probs = KNN.predict_proba(X_test)\n",
    "AB_probs = AB.predict_proba(X_test)\n",
    "XG_probs = XG.predict_proba(X_test)\n",
    "DT_probs = DT.predict_proba(X_test)\n",
    "LR_probs = LR.predict_proba(X_test)\n",
    "NB_probs = NB.predict_proba(X_test)\n",
    "RF_probs = RF.predict_proba(X_test)\n",
    "MLP_ANN_probs = MLP_ANN.predict_proba(X_test)\n",
    "svm_linear_probs = svm_linear.predict_proba(X_test)\n",
    "svm_rbf_probs = svm_rbf.predict_proba(X_test)\n",
    "svm_poly_probs = svm_poly.predict_proba(X_test)"
   ]
  },
  {
   "cell_type": "code",
   "execution_count": 28,
   "id": "38f19bc8",
   "metadata": {},
   "outputs": [],
   "source": [
    "# keep probabilities for the positive outcome only\n",
    "KNN_probs = KNN_probs[:, 1]\n",
    "AB_probs = AB_probs[:, 1]\n",
    "XG_probs = XG_probs[:, 1]\n",
    "DT_probs = DT_probs[:, 1]\n",
    "LR_probs = LR_probs[:, 1]\n",
    "NB_probs = NB_probs[:, 1]\n",
    "RF_probs = RF_probs[:, 1]\n",
    "MLP_ANN_probs = MLP_ANN_probs[:, 1]\n",
    "svm_linear_probs = svm_linear_probs[:, 1]\n",
    "svm_poly_probs = svm_poly_probs[:, 1]\n",
    "svm_rbf_probs = svm_rbf_probs[:, 1]"
   ]
  },
  {
   "cell_type": "code",
   "execution_count": 29,
   "id": "12be5b53",
   "metadata": {},
   "outputs": [],
   "source": [
    "# calculate scores\n",
    "KNN_auc = roc_auc_score(Y_test, KNN_probs)\n",
    "AB_auc = roc_auc_score(Y_test, AB_probs)\n",
    "XG_auc = roc_auc_score(Y_test, XG_probs)\n",
    "DT_auc = roc_auc_score(Y_test, DT_probs)\n",
    "LR_auc = roc_auc_score(Y_test, LR_probs)\n",
    "NB_auc = roc_auc_score(Y_test, NB_probs)\n",
    "RF_auc = roc_auc_score(Y_test, RF_probs)\n",
    "MLP_ANN_auc = roc_auc_score(Y_test, MLP_ANN_probs)\n",
    "svm_poly_auc = roc_auc_score(Y_test, svm_poly_probs)\n",
    "svm_linear_auc = roc_auc_score(Y_test, svm_linear_probs)\n",
    "svm_rbf_auc = roc_auc_score(Y_test, svm_rbf_probs)"
   ]
  },
  {
   "cell_type": "code",
   "execution_count": 30,
   "id": "114daffb",
   "metadata": {},
   "outputs": [
    {
     "ename": "SyntaxError",
     "evalue": "invalid character '،' (U+060C) (2342160045.py, line 4)",
     "output_type": "error",
     "traceback": [
      "\u001b[0;36m  File \u001b[0;32m\"/tmp/ipykernel_1361351/2342160045.py\"\u001b[0;36m, line \u001b[0;32m4\u001b[0m\n\u001b[0;31m    XG_fpr، XG_tpr, _ = roc_curve(Y_test, XG_probs)\u001b[0m\n\u001b[0m          ^\u001b[0m\n\u001b[0;31mSyntaxError\u001b[0m\u001b[0;31m:\u001b[0m invalid character '،' (U+060C)\n"
     ]
    }
   ],
   "source": [
    "# calculate roc curves\n",
    "KNN_fpr, KNN_tpr, _ = roc_curve(Y_test, KNN_probs)\n",
    "AB_fpr, AB_tpr, _ = roc_curve(Y_test, AB_probs)\n",
    "XG_fpr، XG_tpr, _ = roc_curve(Y_test, XG_probs)\n",
    "DT_fpr, DT_tpr, _ = roc_curve(Y_test, DT_probs)\n",
    "NB_fpr, NB_tpr, _ = roc_curve(Y_test, NB_probs)\n",
    "LR_fpr, LR_tpr, _ = roc_curve(Y_test, LR_probs)\n",
    "RF_fpr, RF_tpr, _ = roc_curve(Y_test, RF_probs)\n",
    "MLP_ANN_fpr, MLP_ANN_tpr, _ = roc_curve(Y_test, MLP_ANN_probs)\n",
    "svm_linear_fpr, svm_linear_tpr, _ = roc_curve(Y_test, svm_linear_probs)\n",
    "svm_poly_fpr, svm_poly_tpr, _ = roc_curve(Y_test, svm_poly_probs)\n",
    "svm_rbf_fpr, svm_rbf_tpr, _ = roc_curve(Y_test, svm_rbf_probs)"
   ]
  },
  {
   "cell_type": "code",
   "execution_count": null,
   "id": "584459d4",
   "metadata": {},
   "outputs": [],
   "source": [
    "# plot the roc curve for the model\n",
    "fig = pyplot.figure(figsize=(7, 5))\n",
    "pyplot.plot(KNN_fpr, KNN_tpr ,label='KNN =%.3f' % (KNN_auc))\n",
    "pyplot.plot(AB_fpr, AB_tpr ,label='AdaBoost =%.3f' % (AB_auc))\n",
    "pyplot.plot(XG_fpr, XG_tpr ,label='XGBoost =%.3f' % (XG_auc))\n",
    "pyplot.plot(NB_fpr, NB_tpr ,label='NB =%.3f' % (NB_auc))\n",
    "pyplot.plot(DT_fpr, DT_tpr ,label='DT =%.3f' % (DT_auc))\n",
    "pyplot.plot(LR_fpr, LR_tpr ,label='LR =%.3f' % (LR_auc))\n",
    "pyplot.plot(RF_fpr, RF_tpr ,label='RF =%.3f' % (RF_auc))\n",
    "pyplot.plot(MLP_ANN_fpr, MLP_ANN_tpr ,label='MLP =%.3f' % (MLP_ANN_auc))\n",
    "pyplot.plot(svm_linear_fpr, svm_linear_tpr ,label='SVM_Linear =%.3f' % (svm_linear_auc))\n",
    "pyplot.plot(svm_poly_fpr, svm_poly_tpr ,label='SVM_Poly =%.3f' % (svm_poly_auc))\n",
    "pyplot.plot(svm_rbf_fpr, svm_rbf_tpr ,label='SVM_RBF =%.3f' % (svm_rbf_auc))\n",
    "params = {'legend.fontsize': 10,\n",
    "          'legend.handlelength': 2}\n",
    "pyplot.rcParams.update(params)\n",
    "pyplot.legend()\n",
    "pyplot.ylabel('True Positive Rate', fontsize=15)\n",
    "pyplot.xlabel('False Positive Rate', fontsize=15)\n",
    "pyplot.xticks(fontsize=12)\n",
    "pyplot.yticks(fontsize=12)\n",
    "#Show legend\n",
    "pyplot.legend() # \n",
    "plt.savefig(\"AUC_ROC.png\", dpi = 1200)\n",
    "pyplot.show()"
   ]
  },
  {
   "cell_type": "code",
   "execution_count": null,
   "id": "392ae146",
   "metadata": {},
   "outputs": [],
   "source": [
    "from sklearn.metrics import precision_score\n",
    "from sklearn.metrics import recall_score\n",
    "from sklearn.metrics import precision_recall_curve"
   ]
  },
  {
   "cell_type": "code",
   "execution_count": null,
   "id": "1800ec1a",
   "metadata": {},
   "outputs": [],
   "source": [
    "KNN_precision, KNN_recall, _ = precision_recall_curve(Y_test, KNN_probs)\n",
    "AB_precision, AB_recall, _ = precision_recall_curve(Y_test, AB_probs)\n",
    "XG_precision, XG_recall, _ = precision_recall_curve(Y_test, XG_probs)\n",
    "DT_precision, DT_recall, _ = precision_recall_curve(Y_test, DT_probs)\n",
    "LR_precision, LR_recall, _ = precision_recall_curve(Y_test, LR_probs)\n",
    "NB_precision, NB_recall, _ = precision_recall_curve(Y_test, NB_probs)\n",
    "RF_precision, RF_recall, _ = precision_recall_curve(Y_test, RF_probs)\n",
    "MLP_ANN_precision, MLP_ANN_recall, _ = precision_recall_curve(Y_test, MLP_ANN_probs)\n",
    "svm_linear_precision, svm_linear_recall, _ = precision_recall_curve(Y_test, svm_linear_probs)\n",
    "svm_poly_precision, svm_poly_recall, _ = precision_recall_curve(Y_test, svm_poly_probs)\n",
    "svm_rbf_precision, svm_rbf_recall, _ = precision_recall_curve(Y_test, svm_rbf_probs)"
   ]
  },
  {
   "cell_type": "code",
   "execution_count": null,
   "id": "a39e52a8",
   "metadata": {},
   "outputs": [],
   "source": [
    "from sklearn.metrics import auc\n",
    "# calculate the precision-recall auc\n",
    "KNN_auc = auc(KNN_recall, KNN_precision)\n",
    "AB_auc = auc(AB_recall, AB_precision)\n",
    "XG_auc = auc(XG_recall, XG_precision)\n",
    "DT_auc = auc(DT_recall, DT_precision)\n",
    "NB_auc = auc(NB_recall, NB_precision)\n",
    "LR_auc = auc(LR_recall, LR_precision)\n",
    "RF_auc = auc(RF_recall, RF_precision)\n",
    "MLP_ANN_auc = auc(MLP_ANN_recall, MLP_ANN_precision)\n",
    "svm_linear_auc = auc(svm_linear_recall, svm_linear_precision)\n",
    "svm_poly_auc = auc(svm_poly_recall, svm_poly_precision)\n",
    "svm_rbf_auc = auc(svm_rbf_recall, svm_rbf_precision)"
   ]
  },
  {
   "cell_type": "code",
   "execution_count": null,
   "id": "7f8160ef",
   "metadata": {},
   "outputs": [],
   "source": [
    "# plot the roc curve for the model\n",
    "fig = pyplot.figure(figsize=(7, 5))\n",
    "pyplot.plot(KNN_precision, KNN_recall ,label='KNN =%.3f' % (KNN_auc))\n",
    "pyplot.plot(AB_precision, AB_recall ,label='AdaBoost =%.3f' % (AB_auc))\n",
    "pyplot.plot(XG_precision, XG_recall ,label='XGBoost =%.3f' % (XG_auc))\n",
    "pyplot.plot(NB_precision, NB_recall ,label='NB =%.3f' % (NB_auc))\n",
    "pyplot.plot(DT_precision, DT_recall ,label='DT =%.3f' % (DT_auc))\n",
    "pyplot.plot(LR_precision, LR_recall ,label='LR =%.3f' % (LR_auc))\n",
    "pyplot.plot(RF_precision, RF_recall ,label='RF =%.3f' % (RF_auc))\n",
    "pyplot.plot(MLP_ANN_precision, MLP_ANN_recall ,label='MLP =%.3f' % (MLP_ANN_auc))\n",
    "pyplot.plot(svm_linear_precision, svm_linear_recall ,label='SVM_Linear =%.3f' % (svm_linear_auc))\n",
    "pyplot.plot(svm_poly_precision, svm_poly_recall ,label='SVM_Poly =%.3f' % (svm_poly_auc))\n",
    "pyplot.plot(svm_rbf_precision, svm_rbf_recall ,label='SVM_RBF =%.3f' % (svm_rbf_auc))\n",
    "params = {'legend.fontsize': 10,\n",
    "          'legend.handlelength': 2}\n",
    "pyplot.rcParams.update(params)\n",
    "pyplot.legend()\n",
    "pyplot.ylabel('Precision', fontsize=15)\n",
    "pyplot.xlabel('Recall', fontsize=15)\n",
    "pyplot.xticks(fontsize=12)\n",
    "pyplot.yticks(fontsize=12)\n",
    "#Show legend\n",
    "pyplot.legend() # \n",
    "plt.savefig(\"PR_curve.png\", dpi = 1200)\n",
    "pyplot.show()"
   ]
  },
  {
   "cell_type": "code",
   "execution_count": null,
   "id": "1e19c3d5",
   "metadata": {},
   "outputs": [],
   "source": [
    "###############################################################################################################"
   ]
  },
  {
   "cell_type": "code",
   "execution_count": null,
   "id": "15c4238c",
   "metadata": {},
   "outputs": [],
   "source": [
    "# Store the training prediction labels given by corresponding algorithm into a object of Y_train that will be used as an input of training dataset in our next model i-e MLP\n",
    "KNN_Y_train = KNN.predict(X_train)\n",
    "AB_Y_train = AB.predict(X_train)\n",
    "DT_Y_train = DT.predict(X_train)\n",
    "LR_Y_train = LR.predict(X_train)\n",
    "NB_Y_train = NB.predict(X_train)\n",
    "RF_Y_train = RF.predict(X_train)\n",
    "XG_Y_train = XG.predict(X_train)\n",
    "svm_linear_Y_train = svm_linear.predict(X_train)\n",
    "svm_poly_Y_train = svm_poly.predict(X_train)\n",
    "svm_rbf_Y_train = svm_rbf.predict(X_train)"
   ]
  },
  {
   "cell_type": "code",
   "execution_count": null,
   "id": "4ec33fdc",
   "metadata": {},
   "outputs": [],
   "source": [
    "# Store the testing prediction labels given by corresponding algorithm into a object of Y_train that will be used as an input of training dataset in our next model i-e MLP\n",
    "KNN_Y_test = KNN.predict(X_test)\n",
    "AB_Y_test = AB.predict(X_test)\n",
    "DT_Y_test = DT.predict(X_test)\n",
    "LR_Y_test = LR.predict(X_test)\n",
    "NB_Y_test = NB.predict(X_test)\n",
    "RF_Y_test = RF.predict(X_test)\n",
    "XG_Y_test = XG.predict(X_test)\n",
    "svm_linear_Y_test = svm_linear.predict(X_test)\n",
    "svm_poly_Y_test = svm_poly.predict(X_test)\n",
    "svm_rbf_Y_test = svm_rbf.predict(X_test)"
   ]
  },
  {
   "cell_type": "code",
   "execution_count": null,
   "id": "6b375249",
   "metadata": {},
   "outputs": [],
   "source": [
    "MLP_X = pd.DataFrame()\n",
    "MLP_X[\"KNN\"] = KNN_Y_train\n",
    "MLP_X[\"AB\"] = AB_Y_train \n",
    "MLP_X[\"DT\"] = DT_Y_train \n",
    "MLP_X[\"LR\"] = LR_Y_train \n",
    "MLP_X[\"NB\"] = NB_Y_train \n",
    "MLP_X[\"RF\"] = RF_Y_train \n",
    "MLP_X[\"XG\"] = XG_Y_train \n",
    "MLP_X[\"SVM_Linear\"] = svm_linear_Y_train \n",
    "MLP_X[\"SVM_Poly\"] = svm_poly_Y_train \n",
    "MLP_X[\"SVM_RBF\"] = svm_rbf_Y_train "
   ]
  },
  {
   "cell_type": "code",
   "execution_count": null,
   "id": "ac65bf93",
   "metadata": {},
   "outputs": [],
   "source": [
    "MLP_Y = pd.DataFrame()\n",
    "MLP_Y[\"KNN\"] = KNN_Y_test\n",
    "MLP_Y[\"AB\"] = AB_Y_test\n",
    "MLP_Y[\"DT\"] = DT_Y_test\n",
    "MLP_Y[\"LR\"] = LR_Y_test\n",
    "MLP_Y[\"NB\"] = NB_Y_test\n",
    "MLP_Y[\"RF\"] = RF_Y_test\n",
    "MLP_Y[\"XG\"] = XG_Y_test\n",
    "MLP_Y[\"SVM_Linear\"] = svm_linear_Y_test\n",
    "MLP_Y[\"SVM_Poly\"] = svm_poly_Y_test\n",
    "MLP_Y[\"SVM_RBF\"] = svm_rbf_Y_test"
   ]
  },
  {
   "cell_type": "code",
   "execution_count": null,
   "id": "59651e1d",
   "metadata": {},
   "outputs": [],
   "source": [
    "from sklearn.neural_network import MLPClassifier\n",
    "MLP_ANN = MLPClassifier()\n",
    "MLP_ANN.fit(MLP_X, Y_train)\n",
    "prediction = MLP_ANN.predict(MLP_Y)\n",
    "Accuracy = accuracy_score(Y_test,prediction)\n",
    "print('accuracy',Accuracy)"
   ]
  },
  {
   "cell_type": "code",
   "execution_count": null,
   "id": "ff16b6c3",
   "metadata": {},
   "outputs": [],
   "source": []
  }
 ],
 "metadata": {
  "kernelspec": {
   "display_name": "Python 3 (ipykernel)",
   "language": "python",
   "name": "python3"
  },
  "language_info": {
   "codemirror_mode": {
    "name": "ipython",
    "version": 3
   },
   "file_extension": ".py",
   "mimetype": "text/x-python",
   "name": "python",
   "nbconvert_exporter": "python",
   "pygments_lexer": "ipython3",
   "version": "3.9.7"
  }
 },
 "nbformat": 4,
 "nbformat_minor": 5
}
